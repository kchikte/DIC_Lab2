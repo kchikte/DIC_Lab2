{
 "cells": [
  {
   "cell_type": "code",
   "execution_count": 2,
   "metadata": {},
   "outputs": [],
   "source": [
    "#Reference: https://stackoverflow.com/questions/21865413/get-data-from-twitter-using-tweepy-and-store-in-csv-file\n",
    "import tweepy\n",
    "import csv #Import csv\n",
    "auth = tweepy.auth.OAuthHandler('Mw1iTTY7pgFJyR9NQuCu44LAA', '7ij0T6x7Hbp6EkpqMfzSkjvQzayPiVeuHBKW9ewxghNe6eSDAV')\n",
    "auth.set_access_token('961352439482978304-O9fxt9BEQo48kR8FJgV8ZZocyDf5i9M', 'IAlmJw2h3tYt9ODCrGFcmiLBJcqlClRXExHwGWeWP7bAl')\n",
    "api = tweepy.API(auth)\n",
    "# Open/create a file to append data\n",
    "csvFile = open('twitterData.csv', 'a')\n",
    "#Use csv writer\n",
    "csvWriter = csv.writer(csvFile)\n",
    "for tweet in tweepy.Cursor(api.search,q = \"gun violence\",lang = \"en\").items(500):\n",
    "    #print(tweet)\n",
    "    # Write a row to the CSV file. I use encode UTF-8\n",
    "    csvWriter.writerow([tweet.text.encode('utf-8')]),\n",
    "    #print(tweet.created_at, tweet.text)\n",
    "csvFile.close()\n"
   ]
  },
  {
   "cell_type": "code",
   "execution_count": 23,
   "metadata": {},
   "outputs": [
    {
     "name": "stdout",
     "output_type": "stream",
     "text": [
      "['https://www.nytimes.com/2018/03/08/movies/the-death-of-stalin-armando-iannucci-steve-buscemi.html', 'https://www.nytimes.com/video/us/100000005816881/thousand-march-to-end-gun-violence.html', 'https://www.nytimes.com/aponline/2018/03/28/us/ap-us-student-gun-protests-wisconsin-.html', 'https://www.nytimes.com/2018/03/28/learning/what-should-lawmakers-do-about-guns-and-gun-violence.html', 'https://www.nytimes.com/aponline/2018/03/21/us/politics/ap-us-alabama-senator-guns.html', 'https://www.nytimes.com/2018/03/12/health/gun-violence-research-cdc.html', 'https://www.nytimes.com/2018/03/14/nyregion/new-york-today-student-walkout-guns.html', 'https://www.nytimes.com/2018/03/24/us/gun-rally-urban.html', 'https://www.nytimes.com/2018/03/26/podcasts/the-daily/chicago-gun-violence.html', 'https://www.nytimes.com/2018/02/22/podcasts/the-daily/florida-students-gun-control.html']\n"
     ]
    }
   ],
   "source": [
    "#Reference: http://dlab.berkeley.edu/blog/scraping-new-york-times-articles-python-tutorial\n",
    "from nytimesarticle import articleAPI\n",
    "import csv #Import csv\n",
    "api = articleAPI('5569278a93bb41e89f68cb84499391a3')\n",
    "articles = api.search( q = 'gun violence')\n",
    "#Open/create a file to append data\n",
    "csvFile = open('nytimesarticlesURLs.csv', 'a')\n",
    "#Use csv writer\n",
    "csvWriter = csv.writer(csvFile)\n",
    "#To get urls\n",
    "urls = []\n",
    "for i in articles['response']['docs']:\n",
    "    urls.append(i['web_url'])\n",
    "    # Write a row to the CSV file.\n",
    "    csvWriter.writerow([i['web_url'].encode('utf-8')])\n",
    "\n",
    "print(urls)"
   ]
  },
  {
   "cell_type": "code",
   "execution_count": null,
   "metadata": {},
   "outputs": [],
   "source": []
  }
 ],
 "metadata": {
  "kernelspec": {
   "display_name": "Python 3",
   "language": "python",
   "name": "python3"
  },
  "language_info": {
   "codemirror_mode": {
    "name": "ipython",
    "version": 3
   },
   "file_extension": ".py",
   "mimetype": "text/x-python",
   "name": "python",
   "nbconvert_exporter": "python",
   "pygments_lexer": "ipython3",
   "version": "3.6.4"
  }
 },
 "nbformat": 4,
 "nbformat_minor": 2
}
