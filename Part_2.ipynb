{
 "cells": [
  {
   "cell_type": "code",
   "execution_count": 1,
   "metadata": {},
   "outputs": [
    {
     "ename": "ModuleNotFoundError",
     "evalue": "No module named 'tweepy'",
     "output_type": "error",
     "traceback": [
      "\u001b[0;31m---------------------------------------------------------------------------\u001b[0m",
      "\u001b[0;31mModuleNotFoundError\u001b[0m                       Traceback (most recent call last)",
      "\u001b[0;32m<ipython-input-1-d5c39aa9ba16>\u001b[0m in \u001b[0;36m<module>\u001b[0;34m()\u001b[0m\n\u001b[1;32m      1\u001b[0m \u001b[0;31m#Reference: https://stackoverflow.com/questions/21865413/get-data-from-twitter-using-tweepy-and-store-in-csv-file\u001b[0m\u001b[0;34m\u001b[0m\u001b[0;34m\u001b[0m\u001b[0m\n\u001b[0;32m----> 2\u001b[0;31m \u001b[0;32mimport\u001b[0m \u001b[0mtweepy\u001b[0m\u001b[0;34m\u001b[0m\u001b[0m\n\u001b[0m\u001b[1;32m      3\u001b[0m \u001b[0;32mimport\u001b[0m \u001b[0mcsv\u001b[0m \u001b[0;31m#Import csv\u001b[0m\u001b[0;34m\u001b[0m\u001b[0m\n\u001b[1;32m      4\u001b[0m api = twitter.Api(consumer_key = 'Mw1iTTY7pgFJyR9NQuCu44LAA',\n\u001b[1;32m      5\u001b[0m                   \u001b[0mconsumer_secret\u001b[0m \u001b[0;34m=\u001b[0m \u001b[0;34m'7ij0T6x7Hbp6EkpqMfzSkjvQzayPiVeuHBKW9ewxghNe6eSDAV'\u001b[0m\u001b[0;34m,\u001b[0m\u001b[0;34m\u001b[0m\u001b[0m\n",
      "\u001b[0;31mModuleNotFoundError\u001b[0m: No module named 'tweepy'"
     ]
    }
   ],
   "source": [
    "#Reference: https://stackoverflow.com/questions/21865413/get-data-from-twitter-using-tweepy-and-store-in-csv-file\n",
    "import tweepy\n",
    "import csv #Import csv\n",
    "api = twitter.Api(consumer_key = 'Mw1iTTY7pgFJyR9NQuCu44LAA',\n",
    "                  consumer_secret = '7ij0T6x7Hbp6EkpqMfzSkjvQzayPiVeuHBKW9ewxghNe6eSDAV',\n",
    "                  access_token_key = '961352439482978304-O9fxt9BEQo48kR8FJgV8ZZocyDf5i9M',\n",
    "                  access_token_secret = 'IAlmJw2h3tYt9ODCrGFcmiLBJcqlClRXExHwGWeWP7bAl')\n",
    "\n",
    "search = api.GetSearch(\"gun violence\") # key to search \n",
    "auth = tweepy.auth.OAuthHandler('Mw1iTTY7pgFJyR9NQuCu44LAA', '7ij0T6x7Hbp6EkpqMfzSkjvQzayPiVeuHBKW9ewxghNe6eSDAV')\n",
    "auth.set_access_token('961352439482978304-O9fxt9BEQo48kR8FJgV8ZZocyDf5i9M', 'IAlmJw2h3tYt9ODCrGFcmiLBJcqlClRXExHwGWeWP7bAl')\n",
    "\n",
    "api = tweepy.API(auth)\n",
    "\n",
    "# Open/create a file to append data to\n",
    "csvFile = open('twitterData.csv', 'a')\n",
    "\n",
    "#Use csv writer\n",
    "csvWriter = csv.writer(csvFile)\n",
    "print(\"before for:\")\n",
    "for tweet in tweepy.Cursor(api.search,q = \"gun violence\",lang = \"en\").items(500):\n",
    "    print(tweet)\n",
    "    # Write a row to the CSV file. I use encode UTF-8\n",
    "    csvWriter.writerow([tweet.text.encode('utf-8')])\n",
    "    print(tweet.created_at, tweet.text)\n",
    "csvFile.close()"
   ]
  },
  {
   "cell_type": "code",
   "execution_count": 2,
   "metadata": {},
   "outputs": [
    {
     "ename": "ModuleNotFoundError",
     "evalue": "No module named 'nytimesarticle'",
     "output_type": "error",
     "traceback": [
      "\u001b[0;31m---------------------------------------------------------------------------\u001b[0m",
      "\u001b[0;31mModuleNotFoundError\u001b[0m                       Traceback (most recent call last)",
      "\u001b[0;32m<ipython-input-2-b4ab5e99c398>\u001b[0m in \u001b[0;36m<module>\u001b[0;34m()\u001b[0m\n\u001b[0;32m----> 1\u001b[0;31m \u001b[0;32mfrom\u001b[0m \u001b[0mnytimesarticle\u001b[0m \u001b[0;32mimport\u001b[0m \u001b[0marticleAPI\u001b[0m\u001b[0;34m\u001b[0m\u001b[0m\n\u001b[0m\u001b[1;32m      2\u001b[0m \u001b[0mapi\u001b[0m \u001b[0;34m=\u001b[0m \u001b[0marticleAPI\u001b[0m\u001b[0;34m(\u001b[0m\u001b[0;34m'5569278a93bb41e89f68cb84499391a3'\u001b[0m\u001b[0;34m)\u001b[0m\u001b[0;34m\u001b[0m\u001b[0m\n\u001b[1;32m      3\u001b[0m \u001b[0;31m#import nytimesarticle\u001b[0m\u001b[0;34m\u001b[0m\u001b[0;34m\u001b[0m\u001b[0m\n\u001b[1;32m      4\u001b[0m \u001b[0;31m#api = nytimesarticle.Api('5569278a93bb41e89f68cb84499391a3')\u001b[0m\u001b[0;34m\u001b[0m\u001b[0;34m\u001b[0m\u001b[0m\n\u001b[1;32m      5\u001b[0m \u001b[0marticles\u001b[0m \u001b[0;34m=\u001b[0m \u001b[0mapi\u001b[0m\u001b[0;34m.\u001b[0m\u001b[0msearch\u001b[0m\u001b[0;34m(\u001b[0m\u001b[0mq\u001b[0m\u001b[0;34m=\u001b[0m\u001b[0;34m\"gun violence\"\u001b[0m\u001b[0;34m)\u001b[0m\u001b[0;34m\u001b[0m\u001b[0m\n",
      "\u001b[0;31mModuleNotFoundError\u001b[0m: No module named 'nytimesarticle'"
     ]
    }
   ],
   "source": [
    "from nytimesarticle import articleAPI\n",
    "api = articleAPI('5569278a93bb41e89f68cb84499391a3')\n",
    "#import nytimesarticle\n",
    "#api = nytimesarticle.Api('5569278a93bb41e89f68cb84499391a3')\n",
    "articles = api.search(q=\"gun violence\")\n",
    "print(articles)\n",
    "#articles = api.GetSearch('flu')\n",
    "#articles = api.search( q = 'Obama', \n",
    "#     fq = {'headline':'Obama', 'source':['Reuters','AP', 'The New York Times']})\n",
    "#articles\n"
   ]
  },
  {
   "cell_type": "code",
   "execution_count": null,
   "metadata": {
    "collapsed": true
   },
   "outputs": [],
   "source": []
  }
 ],
 "metadata": {
  "kernelspec": {
   "display_name": "Python 3",
   "language": "python",
   "name": "python3"
  },
  "language_info": {
   "codemirror_mode": {
    "name": "ipython",
    "version": 3
   },
   "file_extension": ".py",
   "mimetype": "text/x-python",
   "name": "python",
   "nbconvert_exporter": "python",
   "pygments_lexer": "ipython3",
   "version": "3.6.3"
  }
 },
 "nbformat": 4,
 "nbformat_minor": 2
}
